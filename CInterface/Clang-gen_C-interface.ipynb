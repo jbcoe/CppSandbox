{
 "metadata": {
  "name": "",
  "signature": "sha256:47eddea6a6ed61a9fdb1463ae45319984142eb31a637f85e62b6cfc9a5b43355"
 },
 "nbformat": 3,
 "nbformat_minor": 0,
 "worksheets": [
  {
   "cells": [
    {
     "cell_type": "code",
     "collapsed": false,
     "input": [
      "import sys\n",
      "sys.path.insert(0,'/Users/jon/DEV/clang-llvm-git/llvm/tools/clang/bindings/python/')\n",
      "import clang.cindex\n",
      "if not clang.cindex.Config.library_file:\n",
      "    clang.cindex.Config.set_library_file('/opt/local/libexec/llvm-3.7/lib/libclang.dylib')"
     ],
     "language": "python",
     "metadata": {},
     "outputs": [],
     "prompt_number": 142
    },
    {
     "cell_type": "code",
     "collapsed": false,
     "input": [
      "import uuid\n",
      "testfile='/tmp/{}.cpp'.format(uuid.uuid1())"
     ],
     "language": "python",
     "metadata": {},
     "outputs": [],
     "prompt_number": 143
    },
    {
     "cell_type": "code",
     "collapsed": false,
     "input": [
      "%%writefile $testfile\n",
      "\n",
      "#define C_API __attribute__((annotate(\"GENERATE_C_API\")))\n",
      "\n",
      "struct Shape\n",
      "{\n",
      "  virtual ~Shape() {}\n",
      "  virtual double area(double r) const = 0;\n",
      "  virtual double perimeter(double r) const = 0;\n",
      "} C_API;\n",
      "\n",
      "static const double pi = 3.14159265359;\n",
      "\n",
      "class Circle : public Shape\n",
      "{\n",
      "  const double radius_;\n",
      "\n",
      "public:\n",
      "  double area() const override { return pi * radius_ * radius_; }\n",
      "\n",
      "  double perimeter() const override { return 2 * pi * radius_; }\n",
      "\n",
      "  Circle(double r) : radius_(r) {}\n",
      "};\n",
      "\n",
      "class Square : public Shape\n",
      "{\n",
      "  const double side_;\n",
      "\n",
      "public:\n",
      "  double area() const override { return side_ * side_; }\n",
      "\n",
      "  double perimeter() const override { return 4.0 * side_; }\n",
      "\n",
      "  Square(double s) : side_(s) {}\n",
      "};"
     ],
     "language": "python",
     "metadata": {},
     "outputs": [
      {
       "output_type": "stream",
       "stream": "stdout",
       "text": [
        "Overwriting /tmp/fe4a4919-ba3a-11e4-83e3-3c15c2be45ee.cpp\n"
       ]
      }
     ],
     "prompt_number": 207
    },
    {
     "cell_type": "code",
     "collapsed": false,
     "input": [
      "def get_annotations(node):\n",
      "    return [c.displayname for c in node.get_children()\n",
      "            if c.kind == clang.cindex.CursorKind.ANNOTATE_ATTR]\n",
      "\n",
      "class MemberData:\n",
      "    def __repr__(self):\n",
      "        return str(self.type)+\":\\\"\"+str(self.name)+\"\\\"\"\n",
      "    \n",
      "    def __init__(self,cursor):\n",
      "        self.name = cursor.spelling\n",
      "        self.type = cursor.type.spelling\n",
      "\n",
      "class FunctionArgument:\n",
      "    def __repr__(self):\n",
      "        return str(self.type)+\":\\\"\"+str(self.name)+\"\\\"\"\n",
      "    \n",
      "    def __init__(self, type, name):\n",
      "        self.type = type\n",
      "        self.name = name\n",
      "        \n",
      "class Function(object):\n",
      "    \n",
      "    def __repr__(self):\n",
      "        return \"Function:\"+str(self.name)\n",
      "    \n",
      "    def __init__(self, cursor):\n",
      "        self.function_cursor = cursor\n",
      "        self.name = cursor.spelling\n",
      "        arguments = [x.spelling for x in cursor.get_arguments()]\n",
      "        argument_types = [x.spelling for x in cursor.type.argument_types()]\n",
      "        self.type = cursor.type.spelling\n",
      "        self.arguments = []\n",
      "        self.annotations = get_annotations(cursor)\n",
      "        for t,n in zip(argument_types,arguments):\n",
      "            self.arguments.append(FunctionArgument(t,n))\n",
      "        \n",
      "class Class(object):\n",
      "    \n",
      "    def __repr__(self):\n",
      "        return \"Class:%s\"%str(self.name)\n",
      "    \n",
      "    def __init__(self, cursor):\n",
      "        self.name = cursor.spelling\n",
      "        self.functions = []\n",
      "        self.members = []\n",
      "        self.annotations = get_annotations(cursor)\n",
      "        self.base_classes = []\n",
      "        \n",
      "        for c in cursor.get_children():\n",
      "            if (c.kind == clang.cindex.CursorKind.FIELD_DECL):\n",
      "                m = MemberData(c)\n",
      "                self.members.append(m)\n",
      "            elif (c.kind == clang.cindex.CursorKind.CXX_METHOD):\n",
      "                f = Function(c)\n",
      "                self.functions.append(f)\n",
      "            elif (c.kind == clang.cindex.CursorKind.CONSTRUCTOR):\n",
      "                f = Function(c)\n",
      "                self.functions.append(f)\n",
      "            elif (c.kind == clang.cindex.CursorKind.CXX_BASE_SPECIFIER):\n",
      "                self.base_classes.append(c.type.spelling)\n",
      "        \n",
      "        self.constructors = [x for x in self.functions if x.name == self.name]\n",
      "                \n",
      "def build_classes(cursor):\n",
      "    result = []\n",
      "    for c in cursor.get_children():\n",
      "        if c.kind == clang.cindex.CursorKind.CLASS_DECL:\n",
      "            a_class = Class(c)\n",
      "            result.append(a_class)\n",
      "        elif c.kind == clang.cindex.CursorKind.STRUCT_DECL:\n",
      "            a_class = Class(c)\n",
      "            result.append(a_class)\n",
      "        elif c.kind == clang.cindex.CursorKind.NAMESPACE:\n",
      "            child_classes = build_classes(c)\n",
      "            result.extend(child_classes)\n",
      "\n",
      "    return result"
     ],
     "language": "python",
     "metadata": {},
     "outputs": [],
     "prompt_number": 208
    },
    {
     "cell_type": "code",
     "collapsed": false,
     "input": [
      "index = clang.cindex.Index.create()\n",
      "translation_unit = index.parse(testfile, ['-x', 'c++', '-std=c++11'])\n",
      "classes = build_classes(translation_unit.cursor)"
     ],
     "language": "python",
     "metadata": {},
     "outputs": [],
     "prompt_number": 209
    },
    {
     "cell_type": "code",
     "collapsed": false,
     "input": [
      "from django.template import Context, Template\n",
      "import django"
     ],
     "language": "python",
     "metadata": {},
     "outputs": [],
     "prompt_number": 210
    },
    {
     "cell_type": "code",
     "collapsed": false,
     "input": [
      "if not django.conf.settings.configured : django.conf.settings.configure()"
     ],
     "language": "python",
     "metadata": {},
     "outputs": [],
     "prompt_number": 211
    },
    {
     "cell_type": "code",
     "collapsed": false,
     "input": [
      "t_api = Template(\"\"\"  {{ class.name }}_delete(const void* my{{class.name}})\n",
      "  {\n",
      "    delete ((const {{class.name}}*)(my{{class.name}}));\n",
      "  }{% for function in class.functions %}\n",
      "  \n",
      "  {{ class.name }}_{{function.name}}(const void* my{{class.name}}{% for arg in function.arguments %}, {{arg.type}} {{arg.name}}{% endfor %})\n",
      "  {\n",
      "    return ((const {{class.name}}*)(my{{class.name}}))->{{function.name}}({% for arg in function.arguments %}{% if not forloop.first %}, {% endif %}{{arg.type}} {{arg.name}}{% endfor %});\n",
      "  }{% endfor %}\"\"\")"
     ],
     "language": "python",
     "metadata": {},
     "outputs": [],
     "prompt_number": 235
    },
    {
     "cell_type": "code",
     "collapsed": false,
     "input": [
      "t_obj = Template(\"\"\"{% for function in class.constructors %}\n",
      "  const void* {{base}}_{{ class.name }}_new({% for arg in function.arguments %}{% if not forloop.first %}, {% endif %}{{arg.type}} {{arg.name}}{% endfor %})\n",
      "  {\n",
      "    return new (std::nothrow) {{ class.name }}({% for arg in function.arguments %}{% if not forloop.first %}, {% endif %}{{arg.name}}{% endfor %});\n",
      "  }{% endfor %}\"\"\")"
     ],
     "language": "python",
     "metadata": {},
     "outputs": [],
     "prompt_number": 236
    },
    {
     "cell_type": "code",
     "collapsed": false,
     "input": [
      "api_classes = []\n",
      "api_classes.extend([c for c in classes if 'GENERATE_C_API' in c.annotations])\n",
      "obj_classes = []\n",
      "for c in classes:\n",
      "    for b in c.base_classes:\n",
      "        if b in [x.name for x in api_classes]:\n",
      "            obj_classes.append((c,b))"
     ],
     "language": "python",
     "metadata": {},
     "outputs": [],
     "prompt_number": 237
    },
    {
     "cell_type": "code",
     "collapsed": false,
     "input": [
      "print \"\"\"extern \"C\"\n",
      "{\"\"\"\n",
      "for c in api_classes:\n",
      "    print(t_api.render(Context({\"class\": c})))\n",
      "for c,b in obj_classes:\n",
      "    print(t_obj.render(Context({\"class\": c, \"base\": b})))\n",
      "print \"}\""
     ],
     "language": "python",
     "metadata": {},
     "outputs": [
      {
       "output_type": "stream",
       "stream": "stdout",
       "text": [
        "extern \"C\"\n",
        "{\n",
        "  Shape_delete(const void* myShape)\n",
        "  {\n",
        "    delete ((const Shape*)(myShape));\n",
        "  }\n",
        "  \n",
        "  Shape_area(const void* myShape, double r)\n",
        "  {\n",
        "    return ((const Shape*)(myShape))->area(double r);\n",
        "  }\n",
        "  \n",
        "  Shape_perimeter(const void* myShape, double r)\n",
        "  {\n",
        "    return ((const Shape*)(myShape))->perimeter(double r);\n",
        "  }\n",
        "\n",
        "  const void* Shape_Circle_new(double r)\n",
        "  {\n",
        "    return new (std::nothrow) Circle(r);\n",
        "  }\n",
        "\n",
        "  const void* Shape_Square_new(double s)\n",
        "  {\n",
        "    return new (std::nothrow) Square(s);\n",
        "  }\n",
        "}\n"
       ]
      }
     ],
     "prompt_number": 238
    }
   ],
   "metadata": {}
  }
 ]
}